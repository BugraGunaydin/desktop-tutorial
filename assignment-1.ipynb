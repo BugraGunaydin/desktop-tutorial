{
 "cells": [
  {
   "cell_type": "code",
   "execution_count": 1,
   "metadata": {},
   "outputs": [
    {
     "name": "stdout",
     "output_type": "stream",
     "text": [
      "Welcome to the first application hosted on GitHub!\n"
     ]
    }
   ],
   "source": [
    "print('Welcome to the first application hosted on GitHub!')"
   ]
  },
  {
   "cell_type": "code",
   "execution_count": 7,
   "metadata": {},
   "outputs": [
    {
     "name": "stdout",
     "output_type": "stream",
     "text": [
      "Mehmet Bugra Gunaydin 100854077\n"
     ]
    }
   ],
   "source": [
    "name1= \"Mehmet\"\n",
    "name2= \"Bugra\"\n",
    "surname = 'Gunaydin'\n",
    "bannerRoot= 7\n",
    "print(name1, name2, surname, (((bannerRoot*300+1)*15+2)*10-1)*64*5-3)"
   ]
  },
  {
   "cell_type": "code",
   "execution_count": null,
   "metadata": {},
   "outputs": [],
   "source": [
    "#test branch1 addition"
   ]
  }
 ],
 "metadata": {
  "kernelspec": {
   "display_name": "Python 3.9.12 ('base')",
   "language": "python",
   "name": "python3"
  },
  "language_info": {
   "codemirror_mode": {
    "name": "ipython",
    "version": 3
   },
   "file_extension": ".py",
   "mimetype": "text/x-python",
   "name": "python",
   "nbconvert_exporter": "python",
   "pygments_lexer": "ipython3",
   "version": "3.9.12"
  },
  "orig_nbformat": 4,
  "vscode": {
   "interpreter": {
    "hash": "5938407ff43ad5a451cd59a337756090daccfcf010b22aa0bce1011b4c59d262"
   }
  }
 },
 "nbformat": 4,
 "nbformat_minor": 2
}
